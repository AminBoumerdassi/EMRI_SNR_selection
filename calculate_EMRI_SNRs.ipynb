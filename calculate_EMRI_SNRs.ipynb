{
 "cells": [
  {
   "cell_type": "code",
<<<<<<< HEAD
   "execution_count": 1,
=======
   "execution_count": 2,
>>>>>>> d41e75dc9a4c14407d8b89ec4e6874b1eefafa07
   "id": "44eeaf51-6cfa-4088-aa20-ec260d15161c",
   "metadata": {},
   "outputs": [],
   "source": [
    "####Test out the randomised EMRI generation\n",
    "\n",
    "use_gpu = True#True#True\n",
    "\n",
    "#GPU check\n",
    "import numpy as np\n",
    "if use_gpu:\n",
    "    import cupy as cp\n",
    "    xp = cp\n",
    "else:\n",
    "    xp = np\n",
    "\n",
    "#Set up a random number generator\n",
    "from numpy.random import default_rng\n",
    "rng = default_rng(seed=2024)\n",
    "\n",
    "#FEW imports\n",
    "import sys\n",
    "import os\n",
    "import numpy as np\n",
    "from numpy.random import default_rng\n",
    "from few.trajectory.inspiral import EMRIInspiral\n",
    "from few.amplitude.romannet import RomanAmplitude\n",
    "from few.amplitude.interp2dcubicspline import Interp2DAmplitude\n",
    "from few.waveform import SchwarzschildEccentricWaveformBase,FastSchwarzschildEccentricFlux, GenerateEMRIWaveform\n",
    "from few.utils.constants import YRSID_SI\n",
    "\n",
    "#Astropy imports for luminosity distance calculations\n",
    "import astropy.units as u\n",
    "import astropy.cosmology.units as cu\n",
    "from astropy.cosmology import LambdaCDM\n",
    "\n",
    "#fast lisa response imports\n",
    "from fastlisaresponse import ResponseWrapper\n",
    "\n",
    "#Noise generation imports\n",
    "from lisatools.sensitivity import *\n",
    "\n",
    "#SNR function imports\n",
<<<<<<< HEAD
    "from EMRI_SNR_funcs import *\n",
=======
    "from EMRI_SNR_test import *\n",
>>>>>>> d41e75dc9a4c14407d8b89ec4e6874b1eefafa07
    "\n",
    "#for SNR calculations\n",
    "from scipy.signal.windows import tukey\n",
    "\n",
    "#for visualisation\n",
    "import matplotlib.pyplot as plt\n",
    "\n",
    "%matplotlib inline"
   ]
  },
  {
   "cell_type": "code",
<<<<<<< HEAD
   "execution_count": 8,
=======
   "execution_count": null,
>>>>>>> d41e75dc9a4c14407d8b89ec4e6874b1eefafa07
   "id": "10bffad4-8d0a-49b6-89c0-ef8424ab8e12",
   "metadata": {},
   "outputs": [],
   "source": [
    "#Define some EMRI function parameters\n",
<<<<<<< HEAD
    "no_EMRIs= 1000\n",
=======
    "no_EMRIs= 100\n",
>>>>>>> d41e75dc9a4c14407d8b89ec4e6874b1eefafa07
    "T=1/12\n",
    "dt=10\n",
    "redshift_range= [0.1,2]"
   ]
  },
  {
   "cell_type": "code",
<<<<<<< HEAD
   "execution_count": 3,
=======
   "execution_count": null,
>>>>>>> d41e75dc9a4c14407d8b89ec4e6874b1eefafa07
   "id": "98ef5385-0cf1-44cf-bf3d-e2857fb05cfb",
   "metadata": {},
   "outputs": [],
   "source": [
    "#Define the Lambda-CDM cosmology used in Ollie's LEMRI paper\n",
    "''' Source: https://arxiv.org/pdf/2307.06722.pdf'''\n",
    "Hubb_const= 70.5\n",
    "Om_matter= 0.274\n",
    "Om_DE= 0.726\n",
    "LCDM= LambdaCDM(H0= Hubb_const, Om0= Om_matter, Ode0= Om_DE)"
   ]
  },
  {
   "cell_type": "code",
<<<<<<< HEAD
   "execution_count": 4,
=======
   "execution_count": null,
>>>>>>> d41e75dc9a4c14407d8b89ec4e6874b1eefafa07
   "id": "7e755873-c78a-4fb0-89a6-d56935b30b62",
   "metadata": {},
   "outputs": [],
   "source": [
    "#Sample a batch of parameters, initialise the SNR array\n",
    "params= sample_EMRI_parameters(LCDM, batch_size=no_EMRIs, redshift_range=redshift_range)\n",
    "SNR_arr= np.zeros(params.shape[0])"
   ]
  },
  {
   "cell_type": "code",
<<<<<<< HEAD
   "execution_count": 9,
=======
   "execution_count": null,
>>>>>>> d41e75dc9a4c14407d8b89ec4e6874b1eefafa07
   "id": "b80d52ba-a683-4c83-8647-e2f4fa3e603e",
   "metadata": {},
   "outputs": [],
   "source": [
    "#Initialise the TDI wrapper\n",
    "#Then iterate the waveform generation and SNR calcualation\n",
    "EMRI_TDI_0PA_ecc= init_EMRI_TDI(T=T, dt=dt, use_gpu=use_gpu)\n",
    "for i in range(params.shape[0]):\n",
    "    waveform= generate_EMRI_AET(params[i], EMRI_TDI_0PA_ecc)\n",
    "    SNR_arr[i]= SNR_AET(waveform)"
   ]
  },
  {
   "cell_type": "code",
   "execution_count": null,
   "id": "f14c4821-e7fc-4fa9-8a75-7567929a3c7c",
   "metadata": {},
   "outputs": [],
   "source": [
    "#Save all the sampled parameters and respective SNRs\n",
    "#np.save(\"EMRI_params.npy\", params)\n",
    "#np.save(\"EMRI_SNRs.npy\", SNR_arr)"
   ]
  },
  {
   "cell_type": "code",
<<<<<<< HEAD
   "execution_count": 11,
   "id": "4c757c19-aa24-427a-86e8-0eef1263aebe",
   "metadata": {},
   "outputs": [
    {
     "data": {
      "text/plain": [
       "Text(0, 0.5, 'frequency')"
      ]
     },
     "execution_count": 11,
     "metadata": {},
     "output_type": "execute_result"
    },
    {
     "data": {
      "image/png": "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",
      "text/plain": [
       "<Figure size 640x480 with 1 Axes>"
      ]
     },
     "metadata": {},
     "output_type": "display_data"
    }
   ],
=======
   "execution_count": null,
   "id": "4c757c19-aa24-427a-86e8-0eef1263aebe",
   "metadata": {},
   "outputs": [],
>>>>>>> d41e75dc9a4c14407d8b89ec4e6874b1eefafa07
   "source": [
    "#Plot a histogram of the EMRI SNRs\n",
    "''' I think this becomes very time-consuming for large datasets'''\n",
    "plt.hist(SNR_arr, bins=int(no_EMRIs/100))\n",
<<<<<<< HEAD
    "plt.title(\"{:} EMRI SNRs with observation window {:} years\".format(no_EMRIs,T))\n",
=======
    "plt.title(\"SNRs of EMRIs with observation window {:} years\".format(T))\n",
>>>>>>> d41e75dc9a4c14407d8b89ec4e6874b1eefafa07
    "plt.xlabel(\"SNR\")\n",
    "plt.ylabel(\"frequency\")\n",
    "#plt.savefig(\"SNR_hist.png\")"
   ]
<<<<<<< HEAD
  },
  {
   "cell_type": "code",
   "execution_count": 12,
   "id": "b7efcbc6-8b6e-4384-9b17-3b572346d98c",
   "metadata": {},
   "outputs": [
    {
     "data": {
      "text/plain": [
       "array([6.20955220e+00, 1.27866206e-01, 7.78992621e-01, 2.67248004e+00,\n",
       "       3.95616918e-01, 1.60411508e-02, 1.26006843e+00, 1.01165916e-01,\n",
       "       1.76738925e+00, 1.81764277e+00, 9.93849019e+00, 2.06913386e+01,\n",
       "       2.79413432e-02, 1.38837284e+00, 5.74098700e-03, 4.06951529e-01,\n",
       "       3.85982862e-01, 3.22500991e-01, 5.61909249e+00, 3.78208747e+00,\n",
       "       3.46882009e-02, 9.32114844e-02, 2.06859960e+00, 3.31961691e+00,\n",
       "       2.26787467e-01, 1.99471899e-01, 1.75822935e+01, 1.17051242e+00,\n",
       "       1.33988848e-01, 1.53936305e+00, 2.41552742e+00, 1.47146198e-01,\n",
       "       1.18503063e+01, 2.02314748e+00, 1.94742888e+00, 1.51613016e-01,\n",
       "       2.62568151e-01, 2.00207758e+00, 1.78505010e+00, 5.65156590e+00,\n",
       "       5.55907651e-01, 1.62312112e+00, 3.24526860e+00, 9.15718290e-01,\n",
       "       2.61693904e-01, 6.92705952e-02, 1.96926229e+00, 4.16633519e-01,\n",
       "       1.34858664e+00, 3.47490149e-02, 6.92063812e+00, 1.37491896e-01,\n",
       "       1.53083328e+00, 2.18551518e-01, 5.46424780e-02, 9.09419504e-02,\n",
       "       5.12104975e-01, 2.97054476e+01, 3.98831795e-01, 6.28894653e-01,\n",
       "       1.22301319e-01, 2.17609086e+00, 8.45479778e+00, 3.13721972e+00,\n",
       "       2.08613939e-02, 4.24825430e-01, 9.23578569e+00, 1.81850733e-01,\n",
       "       2.45331442e-02, 9.62970291e-01, 2.38598450e-01, 2.43984954e-02,\n",
       "       3.22199292e-01, 3.92000109e+00, 2.68292790e-01, 5.59831188e-02,\n",
       "       9.81486775e-02, 1.14143653e-01, 9.38442630e+00, 5.08348049e-01,\n",
       "       3.41281140e-02, 1.04322848e+00, 6.31581421e-02, 1.72405112e+00,\n",
       "       5.76810462e+00, 1.82148369e-01, 5.62263740e-01, 1.44073050e+00,\n",
       "       7.88853213e-01, 9.48896789e-01, 9.35383762e-02, 5.14931427e-01,\n",
       "       4.25559092e-01, 1.03740438e-01, 3.46135848e+00, 2.49772912e-01,\n",
       "       4.96826442e-01, 1.27212053e+00, 7.18113864e-01, 1.86705790e+00])"
      ]
     },
     "execution_count": 12,
     "metadata": {},
     "output_type": "execute_result"
    }
   ],
   "source": [
    "SNR_arr"
   ]
  },
  {
   "cell_type": "code",
   "execution_count": 16,
   "id": "b9b645c0-5648-4a43-b1cb-bc8d195907fa",
   "metadata": {},
   "outputs": [
    {
     "data": {
      "text/plain": [
       "array([2.681352894499717, 13.302993455486972, 11.610681465361083,\n",
       "       11.037048913898921, 9.866461609521538, 14.45236621699714,\n",
       "       7.8213797434814945, 3.6796230433687813, 10.462639273387564,\n",
       "       1.858678174631028, 4.052745233153144, 0.6056768113421968,\n",
       "       15.063038239714299, 3.962321549108111, 13.181412865719881,\n",
       "       13.861586400303624, 7.151982968429721, 11.276196560081269,\n",
       "       4.2173237532790555, 5.659792818621222, 14.064942329949606,\n",
       "       15.037113520518552, 1.345402994091433, 12.405465141285655,\n",
       "       12.099441295287145, 5.922085541764485, 0.702752635387141,\n",
       "       6.422093012318672, 9.59055925312131, 2.023164315773362,\n",
       "       8.150119925182523, 14.088548346006919, 2.028358653743236,\n",
       "       10.128398109135013, 5.37998534462706, 11.618360186443418,\n",
       "       8.928618773003265, 5.650989898393271, 7.005667335318627,\n",
       "       1.1302644853840667, 11.270075899485379, 4.433340514112254,\n",
       "       15.174695572704872, 13.595013049712378, 1.7995532988121286,\n",
       "       15.22183306105947, 5.031313814447691, 10.552575742328028,\n",
       "       14.278841040475706, 2.8275183294159647, 3.56870610750722,\n",
       "       13.946895252637551, 8.148408812225641, 5.402334460166551,\n",
       "       7.137538070037883, 10.065474441385607, 3.7764988134854804,\n",
       "       0.49532189606088356, 3.626264305662115, 13.788079389405354,\n",
       "       4.862249471004887, 3.28466235971331, 5.133235627638696,\n",
       "       7.568183498228809, 15.323527804665474, 9.3286543145124,\n",
       "       1.3229373163884006, 13.45095817541987, 9.449232320212545,\n",
       "       7.345496391535865, 1.0927834390490592, 2.922953827469664,\n",
       "       9.498232231122241, 3.310901081505873, 12.414898463509058,\n",
       "       2.7538860643735985, 11.193345721532348, 10.676078203398598,\n",
       "       4.202395958171192, 7.762738157844245, 14.444248458761892,\n",
       "       3.3859358605206316, 12.216503952763917, 8.543185380535862,\n",
       "       3.0226680130851773, 6.878401065734037, 2.5551418147689935,\n",
       "       7.688144524331495, 8.562430400539895, 12.302902896893569,\n",
       "       10.425893023052748, 1.340112570519535, 11.029829361880166,\n",
       "       3.975661444569309, 3.3519768432626957, 13.990378599384771,\n",
       "       14.4527777502655, 4.14871605114238, 2.6208123629734774,\n",
       "       6.845613857346312], dtype=object)"
      ]
     },
     "execution_count": 16,
     "metadata": {},
     "output_type": "execute_result"
    }
   ],
   "source": [
    "params[:,6]"
   ]
  },
  {
   "cell_type": "code",
   "execution_count": 15,
   "id": "e4f40411-ab91-4555-8002-940657bc5a69",
   "metadata": {},
   "outputs": [
    {
     "data": {
      "text/plain": [
       "(100, 14)"
      ]
     },
     "execution_count": 15,
     "metadata": {},
     "output_type": "execute_result"
    }
   ],
   "source": [
    "params.shape"
   ]
  },
  {
   "cell_type": "code",
   "execution_count": 17,
   "id": "ba563a1f-1c2b-4eb5-b442-c3f7267b3403",
   "metadata": {},
   "outputs": [
    {
     "data": {
      "text/plain": [
       "(array([10., 13., 12.,  8., 10.,  6., 10., 10.,  7., 14.]),\n",
       " array([ 0.4953219 ,  1.97814249,  3.46096308,  4.94378367,  6.42660426,\n",
       "         7.90942485,  9.39224544, 10.87506603, 12.35788662, 13.84070721,\n",
       "        15.3235278 ]),\n",
       " <BarContainer object of 10 artists>)"
      ]
     },
     "execution_count": 17,
     "metadata": {},
     "output_type": "execute_result"
    },
    {
     "data": {
      "image/png": "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",
      "text/plain": [
       "<Figure size 640x480 with 1 Axes>"
      ]
     },
     "metadata": {},
     "output_type": "display_data"
    }
   ],
   "source": [
    "plt.hist(params[:,6])"
   ]
  },
  {
   "cell_type": "code",
   "execution_count": null,
   "id": "564ecd67-a954-4955-b05f-7fc15c8609b9",
   "metadata": {},
   "outputs": [],
   "source": []
=======
>>>>>>> d41e75dc9a4c14407d8b89ec4e6874b1eefafa07
  }
 ],
 "metadata": {
  "kernelspec": {
   "display_name": "few_env_py3_10",
   "language": "python",
   "name": "few_env_py3_10"
  },
  "language_info": {
   "codemirror_mode": {
    "name": "ipython",
    "version": 3
   },
   "file_extension": ".py",
   "mimetype": "text/x-python",
   "name": "python",
   "nbconvert_exporter": "python",
   "pygments_lexer": "ipython3",
   "version": "3.10.8"
  }
 },
 "nbformat": 4,
 "nbformat_minor": 5
}
