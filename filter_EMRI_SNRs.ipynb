{
 "cells": [
  {
   "cell_type": "code",
   "execution_count": 15,
   "id": "d9fb1acb-6902-45ff-9cfe-0dafe27f2fc4",
   "metadata": {},
   "outputs": [],
   "source": [
    "'''\n",
    "This script finds and saves the EMRI parameters that result in\n",
    "SNRs between [20,100]. It also outputs some stats on how many SNRs\n",
    "were <20, and >100.\n",
    "'''\n",
    "\n",
    "import numpy as np"
   ]
  },
  {
   "cell_type": "code",
   "execution_count": 24,
   "id": "4167ed8f-d761-4507-9204-55d351d30aaa",
   "metadata": {},
   "outputs": [],
   "source": [
    "#Specify the directory our EMRI params and SNRs are contained in\n",
    "#then load them up\n",
    "directory= \"SNRs_redshift_point1/\"#\"SNRs_redshift_point1_to_2/\"\n",
    "\n",
    "SNR_arr= np.load(directory+\"EMRI_SNRs.npy\")\n",
    "params= np.load(directory+\"EMRI_params.npy\", allow_pickle=True)\n",
    "total_EMRIs= len(SNR_arr)"
   ]
  },
  {
   "cell_type": "code",
   "execution_count": 25,
   "id": "e8e97121-ef0a-4813-8d0b-cdf52b90f660",
   "metadata": {},
   "outputs": [],
   "source": [
    "#SNR_arr"
   ]
  },
  {
   "cell_type": "code",
   "execution_count": 26,
   "id": "481e2ea7-132a-4aa3-b08c-5eaed07c1db5",
   "metadata": {},
   "outputs": [],
   "source": [
    "#params"
   ]
  },
  {
   "cell_type": "code",
   "execution_count": 27,
   "id": "b7424cd7-70ba-484a-8cea-e9a557080633",
   "metadata": {},
   "outputs": [
    {
     "name": "stdout",
     "output_type": "stream",
     "text": [
      "% of EMRIs with SNRs <20: 0.28036\n"
     ]
    }
   ],
   "source": [
    "#Find out how many have SNRs below 20\n",
    "print(\"% of EMRIs with SNRs <20: {:}\".format(sum((SNR_arr<20))/total_EMRIs))"
   ]
  },
  {
   "cell_type": "code",
   "execution_count": 28,
   "id": "7362711e-4f69-4d4d-8b56-fb9efabb4a74",
   "metadata": {},
   "outputs": [
    {
     "name": "stdout",
     "output_type": "stream",
     "text": [
      "% of EMRIs with SNRs [20,100]: 0.3678\n"
     ]
    }
   ],
   "source": [
    "#Find out how many have SNRs in range [20,100]\n",
    "print(\"% of EMRIs with SNRs [20,100]: {:}\".format(sum((SNR_arr>20) * (SNR_arr<100))/total_EMRIs))"
   ]
  },
  {
   "cell_type": "code",
   "execution_count": 29,
   "id": "de2891c6-68b6-4aee-acb3-c9fbad41869c",
   "metadata": {},
   "outputs": [
    {
     "name": "stdout",
     "output_type": "stream",
     "text": [
      "% of EMRIs with redshift >100: 0.35184\n"
     ]
    }
   ],
   "source": [
    "#Find out how many have SNRs >100\n",
    "print(\"% of EMRIs with redshift >100: {:}\".format(sum(SNR_arr>100)/total_EMRIs))"
   ]
  },
  {
   "cell_type": "code",
   "execution_count": 30,
   "id": "a94eba15-0c68-4ca0-97e0-8b8288d02593",
   "metadata": {},
   "outputs": [],
   "source": [
    "#Take a slice of the params array for SNRs [20,100]\n",
    "\n",
    "desired_indices= (SNR_arr>20) * (SNR_arr<100)\n",
    "\n",
    "params_with_good_SNRs= params[desired_indices,:]"
   ]
  },
  {
   "cell_type": "code",
   "execution_count": 31,
   "id": "ece67b52-5853-4c28-a0da-06fe85c495ee",
   "metadata": {},
   "outputs": [],
   "source": [
    "#Save these EMRIs\n",
    "np.save(directory+\"EMRI_params_SNRs_20_100.npy\", params_with_good_SNRs)"
   ]
  },
  {
   "cell_type": "code",
   "execution_count": null,
   "id": "12a7d80f-28d0-4293-afda-63fdad23b7b9",
   "metadata": {},
   "outputs": [],
   "source": []
  }
 ],
 "metadata": {
  "kernelspec": {
   "display_name": "Python 3.8.1 (gimkl-2018b)",
   "language": "python",
   "name": "python3"
  },
  "language_info": {
   "codemirror_mode": {
    "name": "ipython",
    "version": 3
   },
   "file_extension": ".py",
   "mimetype": "text/x-python",
   "name": "python",
   "nbconvert_exporter": "python",
   "pygments_lexer": "ipython3",
   "version": "3.8.1"
  }
 },
 "nbformat": 4,
 "nbformat_minor": 5
}
