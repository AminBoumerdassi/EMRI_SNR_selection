{
 "cells": [
  {
   "cell_type": "code",
   "execution_count": 2,
   "id": "44eeaf51-6cfa-4088-aa20-ec260d15161c",
   "metadata": {},
   "outputs": [],
   "source": [
    "####Test out the randomised EMRI generation\n",
    "\n",
    "use_gpu = True#True#True\n",
    "\n",
    "#GPU check\n",
    "import numpy as np\n",
    "if use_gpu:\n",
    "    import cupy as cp\n",
    "    xp = cp\n",
    "else:\n",
    "    xp = np\n",
    "\n",
    "#Set up a random number generator\n",
    "from numpy.random import default_rng\n",
    "rng = default_rng(seed=2024)\n",
    "\n",
    "#FEW imports\n",
    "import sys\n",
    "import os\n",
    "import numpy as np\n",
    "from numpy.random import default_rng\n",
    "from few.trajectory.inspiral import EMRIInspiral\n",
    "from few.amplitude.romannet import RomanAmplitude\n",
    "from few.amplitude.interp2dcubicspline import Interp2DAmplitude\n",
    "from few.waveform import SchwarzschildEccentricWaveformBase,FastSchwarzschildEccentricFlux, GenerateEMRIWaveform\n",
    "from few.utils.constants import YRSID_SI\n",
    "\n",
    "#Astropy imports for luminosity distance calculations\n",
    "import astropy.units as u\n",
    "import astropy.cosmology.units as cu\n",
    "from astropy.cosmology import LambdaCDM\n",
    "\n",
    "#fast lisa response imports\n",
    "from fastlisaresponse import ResponseWrapper\n",
    "\n",
    "#Noise generation imports\n",
    "from lisatools.sensitivity import *\n",
    "\n",
    "#SNR function imports\n",
    "from EMRI_SNR_test import *\n",
    "\n",
    "#for SNR calculations\n",
    "from scipy.signal.windows import tukey\n",
    "\n",
    "#for visualisation\n",
    "import matplotlib.pyplot as plt\n",
    "\n",
    "%matplotlib inline"
   ]
  },
  {
   "cell_type": "code",
   "execution_count": null,
   "id": "10bffad4-8d0a-49b6-89c0-ef8424ab8e12",
   "metadata": {},
   "outputs": [],
   "source": [
    "#Define some EMRI function parameters\n",
    "no_EMRIs= 100\n",
    "T=1/12\n",
    "dt=10\n",
    "redshift_range= [0.1,2]"
   ]
  },
  {
   "cell_type": "code",
   "execution_count": null,
   "id": "98ef5385-0cf1-44cf-bf3d-e2857fb05cfb",
   "metadata": {},
   "outputs": [],
   "source": [
    "#Define the Lambda-CDM cosmology used in Ollie's LEMRI paper\n",
    "''' Source: https://arxiv.org/pdf/2307.06722.pdf'''\n",
    "Hubb_const= 70.5\n",
    "Om_matter= 0.274\n",
    "Om_DE= 0.726\n",
    "LCDM= LambdaCDM(H0= Hubb_const, Om0= Om_matter, Ode0= Om_DE)"
   ]
  },
  {
   "cell_type": "code",
   "execution_count": null,
   "id": "7e755873-c78a-4fb0-89a6-d56935b30b62",
   "metadata": {},
   "outputs": [],
   "source": [
    "#Sample a batch of parameters, initialise the SNR array\n",
    "params= sample_EMRI_parameters(LCDM, batch_size=no_EMRIs, redshift_range=redshift_range)\n",
    "SNR_arr= np.zeros(params.shape[0])"
   ]
  },
  {
   "cell_type": "code",
   "execution_count": null,
   "id": "b80d52ba-a683-4c83-8647-e2f4fa3e603e",
   "metadata": {},
   "outputs": [],
   "source": [
    "#Initialise the TDI wrapper\n",
    "#Then iterate the waveform generation and SNR calcualation\n",
    "EMRI_TDI_0PA_ecc= init_EMRI_TDI(T=T, dt=dt, use_gpu=use_gpu)\n",
    "for i in range(params.shape[0]):\n",
    "    waveform= generate_EMRI_AET(params[i], EMRI_TDI_0PA_ecc)\n",
    "    SNR_arr[i]= SNR_AET(waveform)"
   ]
  },
  {
   "cell_type": "code",
   "execution_count": null,
   "id": "f14c4821-e7fc-4fa9-8a75-7567929a3c7c",
   "metadata": {},
   "outputs": [],
   "source": [
    "#Save all the sampled parameters and respective SNRs\n",
    "#np.save(\"EMRI_params.npy\", params)\n",
    "#np.save(\"EMRI_SNRs.npy\", SNR_arr)"
   ]
  },
  {
   "cell_type": "code",
   "execution_count": null,
   "id": "4c757c19-aa24-427a-86e8-0eef1263aebe",
   "metadata": {},
   "outputs": [],
   "source": [
    "#Plot a histogram of the EMRI SNRs\n",
    "''' I think this becomes very time-consuming for large datasets'''\n",
    "plt.hist(SNR_arr, bins=int(no_EMRIs/100))\n",
    "plt.title(\"SNRs of EMRIs with observation window {:} years\".format(T))\n",
    "plt.xlabel(\"SNR\")\n",
    "plt.ylabel(\"frequency\")\n",
    "#plt.savefig(\"SNR_hist.png\")"
   ]
  }
 ],
 "metadata": {
  "kernelspec": {
   "display_name": "few_env_py3_10",
   "language": "python",
   "name": "few_env_py3_10"
  },
  "language_info": {
   "codemirror_mode": {
    "name": "ipython",
    "version": 3
   },
   "file_extension": ".py",
   "mimetype": "text/x-python",
   "name": "python",
   "nbconvert_exporter": "python",
   "pygments_lexer": "ipython3",
   "version": "3.10.8"
  }
 },
 "nbformat": 4,
 "nbformat_minor": 5
}
